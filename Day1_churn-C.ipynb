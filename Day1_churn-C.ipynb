{
 "cells": [
  {
   "cell_type": "markdown",
   "id": "6d5d2eb9-f7fb-4b1d-bc36-9a7746373863",
   "metadata": {},
   "source": [
    "# Building Churn Prediction System for Customers"
   ]
  },
  {
   "cell_type": "markdown",
   "id": "c3f45928-e676-40c3-a562-a0158d70c729",
   "metadata": {},
   "source": [
    "## What is churn prediction ?\n",
    "* let’s take an example, suppose you have taken a premium subscription of the company product now you think that it’s time to leave the subscription, for this you will contact to the company, the company will try to offer some extra functionalities for not leaving the subscription. This is because it will be a loss for any industry that there is some percent of customers are not using their product.\n",
    "\n",
    "#### For prediction of this kind of situation, there is a data science team is present, that will predict the customer churn based on several features."
   ]
  },
  {
   "cell_type": "markdown",
   "id": "ad2fff72-d1e9-4a45-b27d-cde7c36bd2c7",
   "metadata": {},
   "source": [
    "## Dataset\n",
    "\n",
    "* RowNumber—corresponds to the record (row) number and has no effect on the output.\n",
    "* CustomerId—contains random values and has no effect on customer leaving the bank.\n",
    "* Surname—the surname of a customer has no impact on their decision to leave the bank.\n",
    "* CreditScore—can have an effect on customer churn, since a customer with a higher credit score is less likely to leave the bank.\n",
    "* Geography—a customer’s location can affect their decision to leave the bank.\n",
    "* Gender—it’s interesting to explore whether gender plays a role in a customer leaving the bank.\n",
    "* Age—this is certainly relevant, since older customers are less likely to leave their bank than younger ones.\n",
    "* Tenure—refers to the number of years that the customer has been a client of the bank. Normally, older clients are more loyal and less likely to   leave a bank.\n",
    "* Balance—also a very good indicator of customer churn, as people with a higher balance in their accounts are less likely to leave the bank     compared to those with lower balances.\n",
    "* NumOfProducts—refers to the number of products that a customer has purchased through the bank.\n",
    "* HasCrCard—denotes whether or not a customer has a credit card. This column is also relevant, since people with a credit card are less likely to   leave the bank.\n",
    "* IsActiveMember—active customers are less likely to leave the bank.\n",
    "* EstimatedSalary—as with balance, people with lower salaries are more likely to leave the bank compared to those with higher salaries.\n",
    "* Exited—whether or not the customer left the bank."
   ]
  },
  {
   "cell_type": "markdown",
   "id": "c6b92e8c-f3d4-4a1a-a686-3b9bcbb0628a",
   "metadata": {},
   "source": [
    "Dataset Link: https://www.kaggle.com/datasets/sanamps/churn-modelling-with-ann"
   ]
  },
  {
   "cell_type": "code",
   "execution_count": 1,
   "id": "d19837ed-93ac-4e16-9c77-42cc56a16f3e",
   "metadata": {},
   "outputs": [],
   "source": [
    "#Importing libraries\n",
    "import numpy as np\n",
    "import pandas as pd\n",
    "import matplotlib.pyplot as plt\n",
    "import seaborn as sns"
   ]
  },
  {
   "cell_type": "code",
   "execution_count": 2,
   "id": "6a027204-f94c-425f-9db5-2f0ac2ce5de1",
   "metadata": {},
   "outputs": [
    {
     "data": {
      "text/html": [
       "<div>\n",
       "<style scoped>\n",
       "    .dataframe tbody tr th:only-of-type {\n",
       "        vertical-align: middle;\n",
       "    }\n",
       "\n",
       "    .dataframe tbody tr th {\n",
       "        vertical-align: top;\n",
       "    }\n",
       "\n",
       "    .dataframe thead th {\n",
       "        text-align: right;\n",
       "    }\n",
       "</style>\n",
       "<table border=\"1\" class=\"dataframe\">\n",
       "  <thead>\n",
       "    <tr style=\"text-align: right;\">\n",
       "      <th></th>\n",
       "      <th>RowNumber</th>\n",
       "      <th>CustomerId</th>\n",
       "      <th>Surname</th>\n",
       "      <th>CreditScore</th>\n",
       "      <th>Geography</th>\n",
       "      <th>Gender</th>\n",
       "      <th>Age</th>\n",
       "      <th>Tenure</th>\n",
       "      <th>Balance</th>\n",
       "      <th>NumOfProducts</th>\n",
       "      <th>HasCrCard</th>\n",
       "      <th>IsActiveMember</th>\n",
       "      <th>EstimatedSalary</th>\n",
       "      <th>Exited</th>\n",
       "    </tr>\n",
       "  </thead>\n",
       "  <tbody>\n",
       "    <tr>\n",
       "      <th>0</th>\n",
       "      <td>1</td>\n",
       "      <td>15634602</td>\n",
       "      <td>Hargrave</td>\n",
       "      <td>619</td>\n",
       "      <td>France</td>\n",
       "      <td>Female</td>\n",
       "      <td>42</td>\n",
       "      <td>2</td>\n",
       "      <td>0.00</td>\n",
       "      <td>1</td>\n",
       "      <td>1</td>\n",
       "      <td>1</td>\n",
       "      <td>101348.88</td>\n",
       "      <td>1</td>\n",
       "    </tr>\n",
       "    <tr>\n",
       "      <th>1</th>\n",
       "      <td>2</td>\n",
       "      <td>15647311</td>\n",
       "      <td>Hill</td>\n",
       "      <td>608</td>\n",
       "      <td>Spain</td>\n",
       "      <td>Female</td>\n",
       "      <td>41</td>\n",
       "      <td>1</td>\n",
       "      <td>83807.86</td>\n",
       "      <td>1</td>\n",
       "      <td>0</td>\n",
       "      <td>1</td>\n",
       "      <td>112542.58</td>\n",
       "      <td>0</td>\n",
       "    </tr>\n",
       "    <tr>\n",
       "      <th>2</th>\n",
       "      <td>3</td>\n",
       "      <td>15619304</td>\n",
       "      <td>Onio</td>\n",
       "      <td>502</td>\n",
       "      <td>France</td>\n",
       "      <td>Female</td>\n",
       "      <td>42</td>\n",
       "      <td>8</td>\n",
       "      <td>159660.80</td>\n",
       "      <td>3</td>\n",
       "      <td>1</td>\n",
       "      <td>0</td>\n",
       "      <td>113931.57</td>\n",
       "      <td>1</td>\n",
       "    </tr>\n",
       "    <tr>\n",
       "      <th>3</th>\n",
       "      <td>4</td>\n",
       "      <td>15701354</td>\n",
       "      <td>Boni</td>\n",
       "      <td>699</td>\n",
       "      <td>France</td>\n",
       "      <td>Female</td>\n",
       "      <td>39</td>\n",
       "      <td>1</td>\n",
       "      <td>0.00</td>\n",
       "      <td>2</td>\n",
       "      <td>0</td>\n",
       "      <td>0</td>\n",
       "      <td>93826.63</td>\n",
       "      <td>0</td>\n",
       "    </tr>\n",
       "    <tr>\n",
       "      <th>4</th>\n",
       "      <td>5</td>\n",
       "      <td>15737888</td>\n",
       "      <td>Mitchell</td>\n",
       "      <td>850</td>\n",
       "      <td>Spain</td>\n",
       "      <td>Female</td>\n",
       "      <td>43</td>\n",
       "      <td>2</td>\n",
       "      <td>125510.82</td>\n",
       "      <td>1</td>\n",
       "      <td>1</td>\n",
       "      <td>1</td>\n",
       "      <td>79084.10</td>\n",
       "      <td>0</td>\n",
       "    </tr>\n",
       "  </tbody>\n",
       "</table>\n",
       "</div>"
      ],
      "text/plain": [
       "   RowNumber  CustomerId   Surname  CreditScore Geography  Gender  Age  \\\n",
       "0          1    15634602  Hargrave          619    France  Female   42   \n",
       "1          2    15647311      Hill          608     Spain  Female   41   \n",
       "2          3    15619304      Onio          502    France  Female   42   \n",
       "3          4    15701354      Boni          699    France  Female   39   \n",
       "4          5    15737888  Mitchell          850     Spain  Female   43   \n",
       "\n",
       "   Tenure    Balance  NumOfProducts  HasCrCard  IsActiveMember  \\\n",
       "0       2       0.00              1          1               1   \n",
       "1       1   83807.86              1          0               1   \n",
       "2       8  159660.80              3          1               0   \n",
       "3       1       0.00              2          0               0   \n",
       "4       2  125510.82              1          1               1   \n",
       "\n",
       "   EstimatedSalary  Exited  \n",
       "0        101348.88       1  \n",
       "1        112542.58       0  \n",
       "2        113931.57       1  \n",
       "3         93826.63       0  \n",
       "4         79084.10       0  "
      ]
     },
     "execution_count": 2,
     "metadata": {},
     "output_type": "execute_result"
    }
   ],
   "source": [
    "#importing the dataset\n",
    "df = pd.read_csv('Churn_Modelling.csv')\n",
    "df.head()"
   ]
  },
  {
   "cell_type": "code",
   "execution_count": 3,
   "id": "a7215d7c-5d48-4d87-baa4-a43eea926a96",
   "metadata": {},
   "outputs": [
    {
     "data": {
      "text/plain": [
       "(10000, 14)"
      ]
     },
     "execution_count": 3,
     "metadata": {},
     "output_type": "execute_result"
    }
   ],
   "source": [
    "df.shape"
   ]
  },
  {
   "cell_type": "code",
   "execution_count": 4,
   "id": "c1625925-3598-4278-9d84-17e191871917",
   "metadata": {
    "tags": []
   },
   "outputs": [
    {
     "name": "stdout",
     "output_type": "stream",
     "text": [
      "<class 'pandas.core.frame.DataFrame'>\n",
      "RangeIndex: 10000 entries, 0 to 9999\n",
      "Data columns (total 14 columns):\n",
      " #   Column           Non-Null Count  Dtype  \n",
      "---  ------           --------------  -----  \n",
      " 0   RowNumber        10000 non-null  int64  \n",
      " 1   CustomerId       10000 non-null  int64  \n",
      " 2   Surname          10000 non-null  object \n",
      " 3   CreditScore      10000 non-null  int64  \n",
      " 4   Geography        10000 non-null  object \n",
      " 5   Gender           10000 non-null  object \n",
      " 6   Age              10000 non-null  int64  \n",
      " 7   Tenure           10000 non-null  int64  \n",
      " 8   Balance          10000 non-null  float64\n",
      " 9   NumOfProducts    10000 non-null  int64  \n",
      " 10  HasCrCard        10000 non-null  int64  \n",
      " 11  IsActiveMember   10000 non-null  int64  \n",
      " 12  EstimatedSalary  10000 non-null  float64\n",
      " 13  Exited           10000 non-null  int64  \n",
      "dtypes: float64(2), int64(9), object(3)\n",
      "memory usage: 1.1+ MB\n"
     ]
    }
   ],
   "source": [
    "df.info()"
   ]
  },
  {
   "cell_type": "code",
   "execution_count": 5,
   "id": "4377787d-89c1-489e-a617-e6c1f547e948",
   "metadata": {
    "tags": []
   },
   "outputs": [
    {
     "data": {
      "text/html": [
       "<div>\n",
       "<style scoped>\n",
       "    .dataframe tbody tr th:only-of-type {\n",
       "        vertical-align: middle;\n",
       "    }\n",
       "\n",
       "    .dataframe tbody tr th {\n",
       "        vertical-align: top;\n",
       "    }\n",
       "\n",
       "    .dataframe thead th {\n",
       "        text-align: right;\n",
       "    }\n",
       "</style>\n",
       "<table border=\"1\" class=\"dataframe\">\n",
       "  <thead>\n",
       "    <tr style=\"text-align: right;\">\n",
       "      <th></th>\n",
       "      <th>RowNumber</th>\n",
       "      <th>CustomerId</th>\n",
       "      <th>CreditScore</th>\n",
       "      <th>Age</th>\n",
       "      <th>Tenure</th>\n",
       "      <th>Balance</th>\n",
       "      <th>NumOfProducts</th>\n",
       "      <th>HasCrCard</th>\n",
       "      <th>IsActiveMember</th>\n",
       "      <th>EstimatedSalary</th>\n",
       "      <th>Exited</th>\n",
       "    </tr>\n",
       "  </thead>\n",
       "  <tbody>\n",
       "    <tr>\n",
       "      <th>count</th>\n",
       "      <td>10000.00000</td>\n",
       "      <td>1.000000e+04</td>\n",
       "      <td>10000.000000</td>\n",
       "      <td>10000.000000</td>\n",
       "      <td>10000.000000</td>\n",
       "      <td>10000.000000</td>\n",
       "      <td>10000.000000</td>\n",
       "      <td>10000.00000</td>\n",
       "      <td>10000.000000</td>\n",
       "      <td>10000.000000</td>\n",
       "      <td>10000.000000</td>\n",
       "    </tr>\n",
       "    <tr>\n",
       "      <th>mean</th>\n",
       "      <td>5000.50000</td>\n",
       "      <td>1.569094e+07</td>\n",
       "      <td>650.528800</td>\n",
       "      <td>38.921800</td>\n",
       "      <td>5.012800</td>\n",
       "      <td>76485.889288</td>\n",
       "      <td>1.530200</td>\n",
       "      <td>0.70550</td>\n",
       "      <td>0.515100</td>\n",
       "      <td>100090.239881</td>\n",
       "      <td>0.203700</td>\n",
       "    </tr>\n",
       "    <tr>\n",
       "      <th>std</th>\n",
       "      <td>2886.89568</td>\n",
       "      <td>7.193619e+04</td>\n",
       "      <td>96.653299</td>\n",
       "      <td>10.487806</td>\n",
       "      <td>2.892174</td>\n",
       "      <td>62397.405202</td>\n",
       "      <td>0.581654</td>\n",
       "      <td>0.45584</td>\n",
       "      <td>0.499797</td>\n",
       "      <td>57510.492818</td>\n",
       "      <td>0.402769</td>\n",
       "    </tr>\n",
       "    <tr>\n",
       "      <th>min</th>\n",
       "      <td>1.00000</td>\n",
       "      <td>1.556570e+07</td>\n",
       "      <td>350.000000</td>\n",
       "      <td>18.000000</td>\n",
       "      <td>0.000000</td>\n",
       "      <td>0.000000</td>\n",
       "      <td>1.000000</td>\n",
       "      <td>0.00000</td>\n",
       "      <td>0.000000</td>\n",
       "      <td>11.580000</td>\n",
       "      <td>0.000000</td>\n",
       "    </tr>\n",
       "    <tr>\n",
       "      <th>25%</th>\n",
       "      <td>2500.75000</td>\n",
       "      <td>1.562853e+07</td>\n",
       "      <td>584.000000</td>\n",
       "      <td>32.000000</td>\n",
       "      <td>3.000000</td>\n",
       "      <td>0.000000</td>\n",
       "      <td>1.000000</td>\n",
       "      <td>0.00000</td>\n",
       "      <td>0.000000</td>\n",
       "      <td>51002.110000</td>\n",
       "      <td>0.000000</td>\n",
       "    </tr>\n",
       "    <tr>\n",
       "      <th>50%</th>\n",
       "      <td>5000.50000</td>\n",
       "      <td>1.569074e+07</td>\n",
       "      <td>652.000000</td>\n",
       "      <td>37.000000</td>\n",
       "      <td>5.000000</td>\n",
       "      <td>97198.540000</td>\n",
       "      <td>1.000000</td>\n",
       "      <td>1.00000</td>\n",
       "      <td>1.000000</td>\n",
       "      <td>100193.915000</td>\n",
       "      <td>0.000000</td>\n",
       "    </tr>\n",
       "    <tr>\n",
       "      <th>75%</th>\n",
       "      <td>7500.25000</td>\n",
       "      <td>1.575323e+07</td>\n",
       "      <td>718.000000</td>\n",
       "      <td>44.000000</td>\n",
       "      <td>7.000000</td>\n",
       "      <td>127644.240000</td>\n",
       "      <td>2.000000</td>\n",
       "      <td>1.00000</td>\n",
       "      <td>1.000000</td>\n",
       "      <td>149388.247500</td>\n",
       "      <td>0.000000</td>\n",
       "    </tr>\n",
       "    <tr>\n",
       "      <th>max</th>\n",
       "      <td>10000.00000</td>\n",
       "      <td>1.581569e+07</td>\n",
       "      <td>850.000000</td>\n",
       "      <td>92.000000</td>\n",
       "      <td>10.000000</td>\n",
       "      <td>250898.090000</td>\n",
       "      <td>4.000000</td>\n",
       "      <td>1.00000</td>\n",
       "      <td>1.000000</td>\n",
       "      <td>199992.480000</td>\n",
       "      <td>1.000000</td>\n",
       "    </tr>\n",
       "  </tbody>\n",
       "</table>\n",
       "</div>"
      ],
      "text/plain": [
       "         RowNumber    CustomerId   CreditScore           Age        Tenure  \\\n",
       "count  10000.00000  1.000000e+04  10000.000000  10000.000000  10000.000000   \n",
       "mean    5000.50000  1.569094e+07    650.528800     38.921800      5.012800   \n",
       "std     2886.89568  7.193619e+04     96.653299     10.487806      2.892174   \n",
       "min        1.00000  1.556570e+07    350.000000     18.000000      0.000000   \n",
       "25%     2500.75000  1.562853e+07    584.000000     32.000000      3.000000   \n",
       "50%     5000.50000  1.569074e+07    652.000000     37.000000      5.000000   \n",
       "75%     7500.25000  1.575323e+07    718.000000     44.000000      7.000000   \n",
       "max    10000.00000  1.581569e+07    850.000000     92.000000     10.000000   \n",
       "\n",
       "             Balance  NumOfProducts    HasCrCard  IsActiveMember  \\\n",
       "count   10000.000000   10000.000000  10000.00000    10000.000000   \n",
       "mean    76485.889288       1.530200      0.70550        0.515100   \n",
       "std     62397.405202       0.581654      0.45584        0.499797   \n",
       "min         0.000000       1.000000      0.00000        0.000000   \n",
       "25%         0.000000       1.000000      0.00000        0.000000   \n",
       "50%     97198.540000       1.000000      1.00000        1.000000   \n",
       "75%    127644.240000       2.000000      1.00000        1.000000   \n",
       "max    250898.090000       4.000000      1.00000        1.000000   \n",
       "\n",
       "       EstimatedSalary        Exited  \n",
       "count     10000.000000  10000.000000  \n",
       "mean     100090.239881      0.203700  \n",
       "std       57510.492818      0.402769  \n",
       "min          11.580000      0.000000  \n",
       "25%       51002.110000      0.000000  \n",
       "50%      100193.915000      0.000000  \n",
       "75%      149388.247500      0.000000  \n",
       "max      199992.480000      1.000000  "
      ]
     },
     "execution_count": 5,
     "metadata": {},
     "output_type": "execute_result"
    }
   ],
   "source": [
    "df.describe()"
   ]
  },
  {
   "cell_type": "code",
   "execution_count": 6,
   "id": "3c146d5e-eee5-472b-b7bb-763eb84e699e",
   "metadata": {},
   "outputs": [
    {
     "data": {
      "text/plain": [
       "Index(['RowNumber', 'CustomerId', 'Surname', 'CreditScore', 'Geography',\n",
       "       'Gender', 'Age', 'Tenure', 'Balance', 'NumOfProducts', 'HasCrCard',\n",
       "       'IsActiveMember', 'EstimatedSalary', 'Exited'],\n",
       "      dtype='object')"
      ]
     },
     "execution_count": 6,
     "metadata": {},
     "output_type": "execute_result"
    }
   ],
   "source": [
    "df.columns"
   ]
  },
  {
   "cell_type": "code",
   "execution_count": 7,
   "id": "63f5751e-686a-473d-8f1a-70c28d16ae45",
   "metadata": {},
   "outputs": [],
   "source": [
    "#Droping unneseccsry columns\n",
    "df.drop(['RowNumber','CustomerId','Surname'],axis=1,inplace=True)"
   ]
  },
  {
   "cell_type": "code",
   "execution_count": 8,
   "id": "d2bf4d14-06b8-4587-b4dd-d82a236bdeda",
   "metadata": {},
   "outputs": [
    {
     "data": {
      "text/plain": [
       "0    7963\n",
       "1    2037\n",
       "Name: Exited, dtype: int64"
      ]
     },
     "execution_count": 8,
     "metadata": {},
     "output_type": "execute_result"
    }
   ],
   "source": [
    "#Our targate column is 'Exited'\n",
    "df['Exited'].value_counts()"
   ]
  },
  {
   "cell_type": "code",
   "execution_count": 9,
   "id": "acf85f2b-8cd5-4320-b545-c24291933257",
   "metadata": {},
   "outputs": [
    {
     "data": {
      "text/plain": [
       "<AxesSubplot:xlabel='Exited', ylabel='count'>"
      ]
     },
     "execution_count": 9,
     "metadata": {},
     "output_type": "execute_result"
    },
    {
     "data": {
      "image/png": "[encoded data removed]",
      "text/plain": [
       "<Figure size 432x288 with 1 Axes>"
      ]
     },
     "metadata": {
      "needs_background": "light"
     },
     "output_type": "display_data"
    }
   ],
   "source": [
    "sns.countplot(x=df['Exited'],data=df)"
   ]
  },
  {
   "cell_type": "code",
   "execution_count": 10,
   "id": "b5bd7a72-0702-49b6-972a-529b70de1a5b",
   "metadata": {},
   "outputs": [
    {
     "data": {
      "text/plain": [
       "<AxesSubplot:xlabel='Gender', ylabel='count'>"
      ]
     },
     "execution_count": 10,
     "metadata": {},
     "output_type": "execute_result"
    },
    {
     "data": {
      "image/png": "[encoded data removed]",
      "text/plain": [
       "<Figure size 432x288 with 1 Axes>"
      ]
     },
     "metadata": {
      "needs_background": "light"
     },
     "output_type": "display_data"
    }
   ],
   "source": [
    "sns.countplot(x=df['Gender'],data=df)"
   ]
  },
  {
   "cell_type": "code",
   "execution_count": 11,
   "id": "87bc55d7-2a82-4a7f-bfba-a4c8aec7f970",
   "metadata": {},
   "outputs": [
    {
     "name": "stderr",
     "output_type": "stream",
     "text": [
      "C:\\Users\\Bipul\\anaconda3\\lib\\site-packages\\seaborn\\_decorators.py:36: FutureWarning: Pass the following variable as a keyword arg: x. From version 0.12, the only valid positional argument will be `data`, and passing other arguments without an explicit keyword will result in an error or misinterpretation.\n",
      "  warnings.warn(\n"
     ]
    },
    {
     "data": {
      "text/plain": [
       "<AxesSubplot:xlabel='Geography', ylabel='count'>"
      ]
     },
     "execution_count": 11,
     "metadata": {},
     "output_type": "execute_result"
    },
    {
     "data": {
      "image/png": "[encoded data removed]",
      "text/plain": [
       "<Figure size 432x288 with 1 Axes>"
      ]
     },
     "metadata": {
      "needs_background": "light"
     },
     "output_type": "display_data"
    }
   ],
   "source": [
    "sns.countplot(df['Geography'])"
   ]
  },
  {
   "cell_type": "code",
   "execution_count": 12,
   "id": "a4163b90-1df4-47cd-abc5-ef34513c96a9",
   "metadata": {},
   "outputs": [
    {
     "data": {
      "text/plain": [
       "CreditScore        0\n",
       "Geography          0\n",
       "Gender             0\n",
       "Age                0\n",
       "Tenure             0\n",
       "Balance            0\n",
       "NumOfProducts      0\n",
       "HasCrCard          0\n",
       "IsActiveMember     0\n",
       "EstimatedSalary    0\n",
       "Exited             0\n",
       "dtype: int64"
      ]
     },
     "execution_count": 12,
     "metadata": {},
     "output_type": "execute_result"
    }
   ],
   "source": [
    "#Checking Null Values\n",
    "df.isnull().sum()"
   ]
  },
  {
   "cell_type": "markdown",
   "id": "03cf1a39-7f89-4cda-a904-8e014680e096",
   "metadata": {},
   "source": [
    "* Null values are not present in our dataset"
   ]
  },
  {
   "cell_type": "code",
   "execution_count": 13,
   "id": "2d107abc-02e5-44cf-8442-1932a4169894",
   "metadata": {},
   "outputs": [],
   "source": [
    "#Handling Categorical Variables\n",
    "df=pd.get_dummies(df,drop_first=True)"
   ]
  },
  {
   "cell_type": "code",
   "execution_count": 14,
   "id": "973ed2a3-e93d-4ef4-bb1e-f1d2f19627f8",
   "metadata": {},
   "outputs": [
    {
     "data": {
      "text/html": [
       "<div>\n",
       "<style scoped>\n",
       "    .dataframe tbody tr th:only-of-type {\n",
       "        vertical-align: middle;\n",
       "    }\n",
       "\n",
       "    .dataframe tbody tr th {\n",
       "        vertical-align: top;\n",
       "    }\n",
       "\n",
       "    .dataframe thead th {\n",
       "        text-align: right;\n",
       "    }\n",
       "</style>\n",
       "<table border=\"1\" class=\"dataframe\">\n",
       "  <thead>\n",
       "    <tr style=\"text-align: right;\">\n",
       "      <th></th>\n",
       "      <th>CreditScore</th>\n",
       "      <th>Age</th>\n",
       "      <th>Tenure</th>\n",
       "      <th>Balance</th>\n",
       "      <th>NumOfProducts</th>\n",
       "      <th>HasCrCard</th>\n",
       "      <th>IsActiveMember</th>\n",
       "      <th>EstimatedSalary</th>\n",
       "      <th>Exited</th>\n",
       "      <th>Geography_Germany</th>\n",
       "      <th>Geography_Spain</th>\n",
       "      <th>Gender_Male</th>\n",
       "    </tr>\n",
       "  </thead>\n",
       "  <tbody>\n",
       "    <tr>\n",
       "      <th>0</th>\n",
       "      <td>619</td>\n",
       "      <td>42</td>\n",
       "      <td>2</td>\n",
       "      <td>0.00</td>\n",
       "      <td>1</td>\n",
       "      <td>1</td>\n",
       "      <td>1</td>\n",
       "      <td>101348.88</td>\n",
       "      <td>1</td>\n",
       "      <td>0</td>\n",
       "      <td>0</td>\n",
       "      <td>0</td>\n",
       "    </tr>\n",
       "    <tr>\n",
       "      <th>1</th>\n",
       "      <td>608</td>\n",
       "      <td>41</td>\n",
       "      <td>1</td>\n",
       "      <td>83807.86</td>\n",
       "      <td>1</td>\n",
       "      <td>0</td>\n",
       "      <td>1</td>\n",
       "      <td>112542.58</td>\n",
       "      <td>0</td>\n",
       "      <td>0</td>\n",
       "      <td>1</td>\n",
       "      <td>0</td>\n",
       "    </tr>\n",
       "    <tr>\n",
       "      <th>2</th>\n",
       "      <td>502</td>\n",
       "      <td>42</td>\n",
       "      <td>8</td>\n",
       "      <td>159660.80</td>\n",
       "      <td>3</td>\n",
       "      <td>1</td>\n",
       "      <td>0</td>\n",
       "      <td>113931.57</td>\n",
       "      <td>1</td>\n",
       "      <td>0</td>\n",
       "      <td>0</td>\n",
       "      <td>0</td>\n",
       "    </tr>\n",
       "    <tr>\n",
       "      <th>3</th>\n",
       "      <td>699</td>\n",
       "      <td>39</td>\n",
       "      <td>1</td>\n",
       "      <td>0.00</td>\n",
       "      <td>2</td>\n",
       "      <td>0</td>\n",
       "      <td>0</td>\n",
       "      <td>93826.63</td>\n",
       "      <td>0</td>\n",
       "      <td>0</td>\n",
       "      <td>0</td>\n",
       "      <td>0</td>\n",
       "    </tr>\n",
       "    <tr>\n",
       "      <th>4</th>\n",
       "      <td>850</td>\n",
       "      <td>43</td>\n",
       "      <td>2</td>\n",
       "      <td>125510.82</td>\n",
       "      <td>1</td>\n",
       "      <td>1</td>\n",
       "      <td>1</td>\n",
       "      <td>79084.10</td>\n",
       "      <td>0</td>\n",
       "      <td>0</td>\n",
       "      <td>1</td>\n",
       "      <td>0</td>\n",
       "    </tr>\n",
       "  </tbody>\n",
       "</table>\n",
       "</div>"
      ],
      "text/plain": [
       "   CreditScore  Age  Tenure    Balance  NumOfProducts  HasCrCard  \\\n",
       "0          619   42       2       0.00              1          1   \n",
       "1          608   41       1   83807.86              1          0   \n",
       "2          502   42       8  159660.80              3          1   \n",
       "3          699   39       1       0.00              2          0   \n",
       "4          850   43       2  125510.82              1          1   \n",
       "\n",
       "   IsActiveMember  EstimatedSalary  Exited  Geography_Germany  \\\n",
       "0               1        101348.88       1                  0   \n",
       "1               1        112542.58       0                  0   \n",
       "2               0        113931.57       1                  0   \n",
       "3               0         93826.63       0                  0   \n",
       "4               1         79084.10       0                  0   \n",
       "\n",
       "   Geography_Spain  Gender_Male  \n",
       "0                0            0  \n",
       "1                1            0  \n",
       "2                0            0  \n",
       "3                0            0  \n",
       "4                1            0  "
      ]
     },
     "execution_count": 14,
     "metadata": {},
     "output_type": "execute_result"
    }
   ],
   "source": [
    "df.head()"
   ]
  },
  {
   "cell_type": "code",
   "execution_count": 15,
   "id": "0178dc22-0bb7-4707-b29b-db2a68d41db4",
   "metadata": {
    "tags": []
   },
   "outputs": [
    {
     "data": {
      "text/plain": [
       "<AxesSubplot:>"
      ]
     },
     "execution_count": 15,
     "metadata": {},
     "output_type": "execute_result"
    },
    {
     "data": {
      "image/png": "[encoded data removed]",
      "text/plain": [
       "<Figure size 720x576 with 2 Axes>"
      ]
     },
     "metadata": {
      "needs_background": "light"
     },
     "output_type": "display_data"
    }
   ],
   "source": [
    "plt.figure(figsize=(10,8))\n",
    "sns.heatmap(df.corr(),annot=True)"
   ]
  },
  {
   "cell_type": "code",
   "execution_count": 16,
   "id": "a6eb0ca3-65ba-44c7-9cf4-6b9c9fe8b133",
   "metadata": {},
   "outputs": [],
   "source": [
    "#Dividing the Data into X and y\n",
    "X=df.drop('Exited',axis=1)\n",
    "y=df['Exited']"
   ]
  },
  {
   "cell_type": "code",
   "execution_count": 17,
   "id": "53da5a6d-db01-4a3d-8f06-a4847bdcf873",
   "metadata": {},
   "outputs": [
    {
     "data": {
      "text/plain": [
       "(10000, 11)"
      ]
     },
     "execution_count": 17,
     "metadata": {},
     "output_type": "execute_result"
    }
   ],
   "source": [
    "X.shape"
   ]
  },
  {
   "cell_type": "code",
   "execution_count": 18,
   "id": "bce4ecb8-88fc-4e2b-93f3-8ee3111f2fad",
   "metadata": {},
   "outputs": [
    {
     "data": {
      "text/plain": [
       "(10000,)"
      ]
     },
     "execution_count": 18,
     "metadata": {},
     "output_type": "execute_result"
    }
   ],
   "source": [
    "y.shape"
   ]
  },
  {
   "cell_type": "code",
   "execution_count": 19,
   "id": "b73f8f89-0e17-49cd-ba4c-875f9930eb1d",
   "metadata": {},
   "outputs": [
    {
     "data": {
      "text/html": [
       "<div>\n",
       "<style scoped>\n",
       "    .dataframe tbody tr th:only-of-type {\n",
       "        vertical-align: middle;\n",
       "    }\n",
       "\n",
       "    .dataframe tbody tr th {\n",
       "        vertical-align: top;\n",
       "    }\n",
       "\n",
       "    .dataframe thead th {\n",
       "        text-align: right;\n",
       "    }\n",
       "</style>\n",
       "<table border=\"1\" class=\"dataframe\">\n",
       "  <thead>\n",
       "    <tr style=\"text-align: right;\">\n",
       "      <th></th>\n",
       "      <th>CreditScore</th>\n",
       "      <th>Age</th>\n",
       "      <th>Tenure</th>\n",
       "      <th>Balance</th>\n",
       "      <th>NumOfProducts</th>\n",
       "      <th>HasCrCard</th>\n",
       "      <th>IsActiveMember</th>\n",
       "      <th>EstimatedSalary</th>\n",
       "      <th>Geography_Germany</th>\n",
       "      <th>Geography_Spain</th>\n",
       "      <th>Gender_Male</th>\n",
       "    </tr>\n",
       "  </thead>\n",
       "  <tbody>\n",
       "    <tr>\n",
       "      <th>0</th>\n",
       "      <td>619</td>\n",
       "      <td>42</td>\n",
       "      <td>2</td>\n",
       "      <td>0.00</td>\n",
       "      <td>1</td>\n",
       "      <td>1</td>\n",
       "      <td>1</td>\n",
       "      <td>101348.88</td>\n",
       "      <td>0</td>\n",
       "      <td>0</td>\n",
       "      <td>0</td>\n",
       "    </tr>\n",
       "    <tr>\n",
       "      <th>1</th>\n",
       "      <td>608</td>\n",
       "      <td>41</td>\n",
       "      <td>1</td>\n",
       "      <td>83807.86</td>\n",
       "      <td>1</td>\n",
       "      <td>0</td>\n",
       "      <td>1</td>\n",
       "      <td>112542.58</td>\n",
       "      <td>0</td>\n",
       "      <td>1</td>\n",
       "      <td>0</td>\n",
       "    </tr>\n",
       "    <tr>\n",
       "      <th>2</th>\n",
       "      <td>502</td>\n",
       "      <td>42</td>\n",
       "      <td>8</td>\n",
       "      <td>159660.80</td>\n",
       "      <td>3</td>\n",
       "      <td>1</td>\n",
       "      <td>0</td>\n",
       "      <td>113931.57</td>\n",
       "      <td>0</td>\n",
       "      <td>0</td>\n",
       "      <td>0</td>\n",
       "    </tr>\n",
       "    <tr>\n",
       "      <th>3</th>\n",
       "      <td>699</td>\n",
       "      <td>39</td>\n",
       "      <td>1</td>\n",
       "      <td>0.00</td>\n",
       "      <td>2</td>\n",
       "      <td>0</td>\n",
       "      <td>0</td>\n",
       "      <td>93826.63</td>\n",
       "      <td>0</td>\n",
       "      <td>0</td>\n",
       "      <td>0</td>\n",
       "    </tr>\n",
       "    <tr>\n",
       "      <th>4</th>\n",
       "      <td>850</td>\n",
       "      <td>43</td>\n",
       "      <td>2</td>\n",
       "      <td>125510.82</td>\n",
       "      <td>1</td>\n",
       "      <td>1</td>\n",
       "      <td>1</td>\n",
       "      <td>79084.10</td>\n",
       "      <td>0</td>\n",
       "      <td>1</td>\n",
       "      <td>0</td>\n",
       "    </tr>\n",
       "  </tbody>\n",
       "</table>\n",
       "</div>"
      ],
      "text/plain": [
       "   CreditScore  Age  Tenure    Balance  NumOfProducts  HasCrCard  \\\n",
       "0          619   42       2       0.00              1          1   \n",
       "1          608   41       1   83807.86              1          0   \n",
       "2          502   42       8  159660.80              3          1   \n",
       "3          699   39       1       0.00              2          0   \n",
       "4          850   43       2  125510.82              1          1   \n",
       "\n",
       "   IsActiveMember  EstimatedSalary  Geography_Germany  Geography_Spain  \\\n",
       "0               1        101348.88                  0                0   \n",
       "1               1        112542.58                  0                1   \n",
       "2               0        113931.57                  0                0   \n",
       "3               0         93826.63                  0                0   \n",
       "4               1         79084.10                  0                1   \n",
       "\n",
       "   Gender_Male  \n",
       "0            0  \n",
       "1            0  \n",
       "2            0  \n",
       "3            0  \n",
       "4            0  "
      ]
     },
     "execution_count": 19,
     "metadata": {},
     "output_type": "execute_result"
    }
   ],
   "source": [
    "X.head()"
   ]
  },
  {
   "cell_type": "code",
   "execution_count": 20,
   "id": "1ab150a4-e779-4bd8-b8bd-e36eb7ec78ad",
   "metadata": {},
   "outputs": [],
   "source": [
    "#Train test split\n",
    "from sklearn.model_selection import train_test_split\n",
    "X_train,X_test,y_train,y_test=train_test_split(X,y,test_size=0.2,random_state=42)"
   ]
  },
  {
   "cell_type": "code",
   "execution_count": 21,
   "id": "0b38f8d5-23f4-4376-8ba2-1ec5244a12ee",
   "metadata": {},
   "outputs": [
    {
     "data": {
      "text/plain": [
       "(8000, 11)"
      ]
     },
     "execution_count": 21,
     "metadata": {},
     "output_type": "execute_result"
    }
   ],
   "source": [
    "X_train.shape"
   ]
  },
  {
   "cell_type": "code",
   "execution_count": 42,
   "id": "eddb97b0-daa5-499b-a400-6d899fc3b7cb",
   "metadata": {},
   "outputs": [
    {
     "data": {
      "text/plain": [
       "pandas.core.frame.DataFrame"
      ]
     },
     "execution_count": 42,
     "metadata": {},
     "output_type": "execute_result"
    }
   ],
   "source": [
    "type(X_train)"
   ]
  },
  {
   "cell_type": "code",
   "execution_count": 22,
   "id": "9f91f484-cf05-4b02-ad66-96f7008d67fb",
   "metadata": {},
   "outputs": [
    {
     "data": {
      "text/plain": [
       "(2000, 11)"
      ]
     },
     "execution_count": 22,
     "metadata": {},
     "output_type": "execute_result"
    }
   ],
   "source": [
    "X_test.shape"
   ]
  },
  {
   "cell_type": "code",
   "execution_count": 23,
   "id": "3bb8e578-930b-4512-9e53-bcb92710fb77",
   "metadata": {},
   "outputs": [
    {
     "data": {
      "text/plain": [
       "(8000,)"
      ]
     },
     "execution_count": 23,
     "metadata": {},
     "output_type": "execute_result"
    }
   ],
   "source": [
    "y_train.shape"
   ]
  },
  {
   "cell_type": "code",
   "execution_count": 29,
   "id": "73309589-3a08-492b-8f4a-0d8576c4e4fc",
   "metadata": {},
   "outputs": [
    {
     "data": {
      "text/plain": [
       "pandas.core.series.Series"
      ]
     },
     "execution_count": 29,
     "metadata": {},
     "output_type": "execute_result"
    }
   ],
   "source": [
    "type(y_train)"
   ]
  },
  {
   "cell_type": "code",
   "execution_count": 36,
   "id": "8d97782c-5466-4e61-bbc3-ecaaca0419cc",
   "metadata": {},
   "outputs": [
    {
     "data": {
      "text/plain": [
       "1"
      ]
     },
     "execution_count": 36,
     "metadata": {},
     "output_type": "execute_result"
    }
   ],
   "source": [
    "y_train[2]"
   ]
  },
  {
   "cell_type": "code",
   "execution_count": 43,
   "id": "b92612d8-af7d-4d43-91ce-998680d8e2d9",
   "metadata": {},
   "outputs": [],
   "source": [
    "#Feature Scalling\n",
    "from sklearn.preprocessing import StandardScaler\n",
    "sc=StandardScaler()\n",
    "X_train = sc.fit_transform(X_train)\n",
    "X_test=sc.transform(X_test)"
   ]
  },
  {
   "cell_type": "code",
   "execution_count": 44,
   "id": "b0ce116e-0853-47d2-bc46-73af04ad5ddf",
   "metadata": {},
   "outputs": [
    {
     "data": {
      "text/plain": [
       "array([[ 0.35649971, -0.6557859 ,  0.34567966, ..., -0.57946723,\n",
       "        -0.57638802,  0.91324755],\n",
       "       [-0.20389777,  0.29493847, -0.3483691 , ...,  1.72572313,\n",
       "        -0.57638802,  0.91324755],\n",
       "       [-0.96147213, -1.41636539, -0.69539349, ..., -0.57946723,\n",
       "         1.73494238,  0.91324755],\n",
       "       ...,\n",
       "       [ 0.86500853, -0.08535128, -1.38944225, ..., -0.57946723,\n",
       "        -0.57638802, -1.09499335],\n",
       "       [ 0.15932282,  0.3900109 ,  1.03972843, ..., -0.57946723,\n",
       "        -0.57638802,  0.91324755],\n",
       "       [ 0.47065475,  1.15059039, -1.38944225, ...,  1.72572313,\n",
       "        -0.57638802,  0.91324755]])"
      ]
     },
     "execution_count": 44,
     "metadata": {},
     "output_type": "execute_result"
    }
   ],
   "source": [
    "X_train"
   ]
  },
  {
   "cell_type": "code",
   "execution_count": 49,
   "id": "3358f4db-30a7-4795-916c-f5bdfb2c8caa",
   "metadata": {},
   "outputs": [
    {
     "name": "stdout",
     "output_type": "stream",
     "text": [
      "(8000, 11)\n",
      "(8000,)\n"
     ]
    }
   ],
   "source": [
    "print(X_train.shape)\n",
    "print(y_train.shape)"
   ]
  },
  {
   "cell_type": "markdown",
   "id": "049ad956-7096-4aa8-bf82-8309d5019127",
   "metadata": {},
   "source": [
    "## Create Artificial Neural Network"
   ]
  },
  {
   "cell_type": "markdown",
   "id": "28d40441-0a87-485a-8288-7634fd45cf29",
   "metadata": {},
   "source": [
    "* Sequential usually refers to an entire model, not just one layer. \n",
    "* Sequential refers to the way you build models in Keras using the sequential api from keras.\n",
    "* To install keras run the command pip install keras."
   ]
  },
  {
   "cell_type": "code",
   "execution_count": 45,
   "id": "be3d27b7-768e-4e70-b400-d062d342140a",
   "metadata": {},
   "outputs": [],
   "source": [
    "#Importiing libraries\n",
    "import keras\n",
    "from keras.models import Sequential\n",
    "from keras.layers import Dense"
   ]
  },
  {
   "cell_type": "code",
   "execution_count": 46,
   "id": "4bae3e95-3626-451c-95bb-f64cce780a6e",
   "metadata": {},
   "outputs": [
    {
     "data": {
      "text/plain": [
       "'2.7.0'"
      ]
     },
     "execution_count": 46,
     "metadata": {},
     "output_type": "execute_result"
    }
   ],
   "source": [
    "keras.__version__"
   ]
  },
  {
   "cell_type": "code",
   "execution_count": 47,
   "id": "c979b812-d266-4823-88a1-92f8eaace1fd",
   "metadata": {},
   "outputs": [
    {
     "data": {
      "text/plain": [
       "'2.7.1'"
      ]
     },
     "execution_count": 47,
     "metadata": {},
     "output_type": "execute_result"
    }
   ],
   "source": [
    "import tensorflow as tf\n",
    "tf.__version__"
   ]
  },
  {
   "cell_type": "code",
   "execution_count": 48,
   "id": "5ca71a95-7c2d-4f89-9f49-d85aeefd1273",
   "metadata": {},
   "outputs": [],
   "source": [
    "#Initializing the ANN\n",
    "ann_clf=Sequential()"
   ]
  },
  {
   "cell_type": "markdown",
   "id": "ee343162-48d2-4c50-8dfc-ac2d8be9a8f6",
   "metadata": {},
   "source": [
    "* In keras default activation function is Relu\n",
    "* The default weight initializer is glorot initializer"
   ]
  },
  {
   "cell_type": "code",
   "execution_count": 50,
   "id": "f654e276-7006-475b-ba07-5ac53574a279",
   "metadata": {},
   "outputs": [],
   "source": [
    "#adding the input layer and first hidden layer\n",
    "ann_clf.add(Dense(activation='relu',input_dim=11,units=6,kernel_initializer='uniform'))"
   ]
  },
  {
   "cell_type": "code",
   "execution_count": 51,
   "id": "d26619f3-dd8f-41ca-a9c8-f65e65ecffb3",
   "metadata": {},
   "outputs": [],
   "source": [
    "##Adding the second hidden layer\n",
    "ann_clf.add(Dense(activation='relu',units=6,kernel_initializer='uniform'))"
   ]
  },
  {
   "cell_type": "code",
   "execution_count": 52,
   "id": "1cded436-1868-4712-bd9d-f0793215ae4c",
   "metadata": {},
   "outputs": [],
   "source": [
    "#adding the outputlayer\n",
    "ann_clf.add(Dense(activation='sigmoid',units=1,kernel_initializer='uniform'))"
   ]
  },
  {
   "cell_type": "code",
   "execution_count": 53,
   "id": "d92ab392-db64-4bb4-8633-7a811727014d",
   "metadata": {},
   "outputs": [],
   "source": [
    "#compiling the ann\n",
    "ann_clf.compile(optimizer='adam',loss='binary_crossentropy',metrics=['accuracy'])"
   ]
  },
  {
   "cell_type": "markdown",
   "id": "e7454f69-651e-4ade-93de-f93a0d3708f0",
   "metadata": {},
   "source": [
    "## Model Summery"
   ]
  },
  {
   "cell_type": "code",
   "execution_count": 54,
   "id": "3757d855-7e6d-4437-a630-02b1b069804a",
   "metadata": {},
   "outputs": [
    {
     "name": "stdout",
     "output_type": "stream",
     "text": [
      "Model: \"sequential\"\n",
      "_________________________________________________________________\n",
      " Layer (type)                Output Shape              Param #   \n",
      "=================================================================\n",
      " dense (Dense)               (None, 6)                 72        \n",
      "                                                                 \n",
      " dense_1 (Dense)             (None, 6)                 42        \n",
      "                                                                 \n",
      " dense_2 (Dense)             (None, 1)                 7         \n",
      "                                                                 \n",
      "=================================================================\n",
      "Total params: 121\n",
      "Trainable params: 121\n",
      "Non-trainable params: 0\n",
      "_________________________________________________________________\n"
     ]
    }
   ],
   "source": [
    "ann_clf.summary()"
   ]
  },
  {
   "cell_type": "markdown",
   "id": "da69e4c0-e37b-46fe-9759-cf57cb18d604",
   "metadata": {},
   "source": [
    "## Model Training"
   ]
  },
  {
   "cell_type": "code",
   "execution_count": 55,
   "id": "ee1fb80a-347a-4009-95ba-68d33746da6c",
   "metadata": {
    "scrolled": true,
    "tags": []
   },
   "outputs": [
    {
     "name": "stdout",
     "output_type": "stream",
     "text": [
      "Epoch 1/100\n",
      "168/168 [==============================] - 3s 5ms/step - loss: 0.6421 - accuracy: 0.7944 - val_loss: 0.5434 - val_accuracy: 0.7910\n",
      "Epoch 2/100\n",
      "168/168 [==============================] - 1s 3ms/step - loss: 0.4712 - accuracy: 0.7962 - val_loss: 0.4470 - val_accuracy: 0.7910\n",
      "Epoch 3/100\n",
      "168/168 [==============================] - 1s 3ms/step - loss: 0.4355 - accuracy: 0.7962 - val_loss: 0.4424 - val_accuracy: 0.7910\n",
      "Epoch 4/100\n",
      "168/168 [==============================] - 1s 3ms/step - loss: 0.4301 - accuracy: 0.7962 - val_loss: 0.4400 - val_accuracy: 0.7910\n",
      "Epoch 5/100\n",
      "168/168 [==============================] - 0s 3ms/step - loss: 0.4269 - accuracy: 0.7962 - val_loss: 0.4371 - val_accuracy: 0.7910\n",
      "Epoch 6/100\n",
      "168/168 [==============================] - 0s 3ms/step - loss: 0.4241 - accuracy: 0.7962 - val_loss: 0.4346 - val_accuracy: 0.7910\n",
      "Epoch 7/100\n",
      "168/168 [==============================] - 1s 3ms/step - loss: 0.4214 - accuracy: 0.8007 - val_loss: 0.4318 - val_accuracy: 0.8152\n",
      "Epoch 8/100\n",
      "168/168 [==============================] - 0s 3ms/step - loss: 0.4186 - accuracy: 0.8235 - val_loss: 0.4296 - val_accuracy: 0.8175\n",
      "Epoch 9/100\n",
      "168/168 [==============================] - 1s 3ms/step - loss: 0.4156 - accuracy: 0.8313 - val_loss: 0.4266 - val_accuracy: 0.8239\n",
      "Epoch 10/100\n",
      "168/168 [==============================] - 0s 3ms/step - loss: 0.4125 - accuracy: 0.8352 - val_loss: 0.4233 - val_accuracy: 0.8315\n",
      "Epoch 11/100\n",
      "168/168 [==============================] - 1s 3ms/step - loss: 0.4099 - accuracy: 0.8365 - val_loss: 0.4220 - val_accuracy: 0.8296\n",
      "Epoch 12/100\n",
      "168/168 [==============================] - 0s 3ms/step - loss: 0.4077 - accuracy: 0.8391 - val_loss: 0.4198 - val_accuracy: 0.8311\n",
      "Epoch 13/100\n",
      "168/168 [==============================] - 0s 3ms/step - loss: 0.4057 - accuracy: 0.8390 - val_loss: 0.4187 - val_accuracy: 0.8311\n",
      "Epoch 14/100\n",
      "168/168 [==============================] - 1s 3ms/step - loss: 0.4040 - accuracy: 0.8364 - val_loss: 0.4169 - val_accuracy: 0.8319\n",
      "Epoch 15/100\n",
      "168/168 [==============================] - 1s 3ms/step - loss: 0.4028 - accuracy: 0.8384 - val_loss: 0.4162 - val_accuracy: 0.8326\n",
      "Epoch 16/100\n",
      "168/168 [==============================] - 0s 3ms/step - loss: 0.4015 - accuracy: 0.8384 - val_loss: 0.4148 - val_accuracy: 0.8315\n",
      "Epoch 17/100\n",
      "168/168 [==============================] - 1s 3ms/step - loss: 0.4005 - accuracy: 0.8369 - val_loss: 0.4139 - val_accuracy: 0.8307\n",
      "Epoch 18/100\n",
      "168/168 [==============================] - 0s 3ms/step - loss: 0.3996 - accuracy: 0.8365 - val_loss: 0.4140 - val_accuracy: 0.8319\n",
      "Epoch 19/100\n",
      "168/168 [==============================] - 0s 3ms/step - loss: 0.3986 - accuracy: 0.8388 - val_loss: 0.4134 - val_accuracy: 0.8326\n",
      "Epoch 20/100\n",
      "168/168 [==============================] - 1s 3ms/step - loss: 0.3980 - accuracy: 0.8378 - val_loss: 0.4126 - val_accuracy: 0.8311\n",
      "Epoch 21/100\n",
      "168/168 [==============================] - 1s 3ms/step - loss: 0.3970 - accuracy: 0.8375 - val_loss: 0.4128 - val_accuracy: 0.8311\n",
      "Epoch 22/100\n",
      "168/168 [==============================] - 1s 3ms/step - loss: 0.3966 - accuracy: 0.8401 - val_loss: 0.4121 - val_accuracy: 0.8311\n",
      "Epoch 23/100\n",
      "168/168 [==============================] - 0s 3ms/step - loss: 0.3959 - accuracy: 0.8390 - val_loss: 0.4116 - val_accuracy: 0.8315\n",
      "Epoch 24/100\n",
      "168/168 [==============================] - 1s 3ms/step - loss: 0.3956 - accuracy: 0.8384 - val_loss: 0.4111 - val_accuracy: 0.8307\n",
      "Epoch 25/100\n",
      "168/168 [==============================] - 1s 3ms/step - loss: 0.3950 - accuracy: 0.8384 - val_loss: 0.4110 - val_accuracy: 0.8319\n",
      "Epoch 26/100\n",
      "168/168 [==============================] - 0s 3ms/step - loss: 0.3943 - accuracy: 0.8399 - val_loss: 0.4106 - val_accuracy: 0.8323\n",
      "Epoch 27/100\n",
      "168/168 [==============================] - 1s 3ms/step - loss: 0.3941 - accuracy: 0.8395 - val_loss: 0.4101 - val_accuracy: 0.8330\n",
      "Epoch 28/100\n",
      "168/168 [==============================] - 1s 3ms/step - loss: 0.3936 - accuracy: 0.8393 - val_loss: 0.4113 - val_accuracy: 0.8315\n",
      "Epoch 29/100\n",
      "168/168 [==============================] - 0s 3ms/step - loss: 0.3933 - accuracy: 0.8406 - val_loss: 0.4102 - val_accuracy: 0.8311\n",
      "Epoch 30/100\n",
      "168/168 [==============================] - 1s 3ms/step - loss: 0.3927 - accuracy: 0.8388 - val_loss: 0.4101 - val_accuracy: 0.8304\n",
      "Epoch 31/100\n",
      "168/168 [==============================] - 1s 3ms/step - loss: 0.3925 - accuracy: 0.8405 - val_loss: 0.4100 - val_accuracy: 0.8296\n",
      "Epoch 32/100\n",
      "168/168 [==============================] - 0s 3ms/step - loss: 0.3920 - accuracy: 0.8390 - val_loss: 0.4102 - val_accuracy: 0.8326\n",
      "Epoch 33/100\n",
      "168/168 [==============================] - 1s 3ms/step - loss: 0.3918 - accuracy: 0.8410 - val_loss: 0.4113 - val_accuracy: 0.8334\n",
      "Epoch 34/100\n",
      "168/168 [==============================] - 1s 3ms/step - loss: 0.3914 - accuracy: 0.8386 - val_loss: 0.4108 - val_accuracy: 0.8315\n",
      "Epoch 35/100\n",
      "168/168 [==============================] - 1s 3ms/step - loss: 0.3913 - accuracy: 0.8384 - val_loss: 0.4106 - val_accuracy: 0.8319\n",
      "Epoch 36/100\n",
      "168/168 [==============================] - 1s 3ms/step - loss: 0.3908 - accuracy: 0.8393 - val_loss: 0.4106 - val_accuracy: 0.8292\n",
      "Epoch 37/100\n",
      "168/168 [==============================] - 1s 3ms/step - loss: 0.3907 - accuracy: 0.8386 - val_loss: 0.4103 - val_accuracy: 0.8315\n",
      "Epoch 38/100\n",
      "168/168 [==============================] - 1s 3ms/step - loss: 0.3906 - accuracy: 0.8403 - val_loss: 0.4098 - val_accuracy: 0.8304\n",
      "Epoch 39/100\n",
      "168/168 [==============================] - 1s 3ms/step - loss: 0.3900 - accuracy: 0.8399 - val_loss: 0.4102 - val_accuracy: 0.8315\n",
      "Epoch 40/100\n",
      "168/168 [==============================] - 1s 3ms/step - loss: 0.3900 - accuracy: 0.8395 - val_loss: 0.4103 - val_accuracy: 0.8307\n",
      "Epoch 41/100\n",
      "168/168 [==============================] - 0s 3ms/step - loss: 0.3900 - accuracy: 0.8395 - val_loss: 0.4102 - val_accuracy: 0.8319\n",
      "Epoch 42/100\n",
      "168/168 [==============================] - 0s 3ms/step - loss: 0.3896 - accuracy: 0.8412 - val_loss: 0.4105 - val_accuracy: 0.8311\n",
      "Epoch 43/100\n",
      "168/168 [==============================] - 1s 3ms/step - loss: 0.3899 - accuracy: 0.8397 - val_loss: 0.4113 - val_accuracy: 0.8311\n",
      "Epoch 44/100\n",
      "168/168 [==============================] - 1s 3ms/step - loss: 0.3896 - accuracy: 0.8395 - val_loss: 0.4105 - val_accuracy: 0.8311\n",
      "Epoch 45/100\n",
      "168/168 [==============================] - 0s 3ms/step - loss: 0.3895 - accuracy: 0.8408 - val_loss: 0.4102 - val_accuracy: 0.8304\n",
      "Epoch 46/100\n",
      "168/168 [==============================] - 0s 3ms/step - loss: 0.3892 - accuracy: 0.8395 - val_loss: 0.4104 - val_accuracy: 0.8311\n",
      "Epoch 47/100\n",
      "168/168 [==============================] - 1s 3ms/step - loss: 0.3893 - accuracy: 0.8403 - val_loss: 0.4110 - val_accuracy: 0.8296\n",
      "Epoch 48/100\n",
      "168/168 [==============================] - 1s 3ms/step - loss: 0.3894 - accuracy: 0.8403 - val_loss: 0.4101 - val_accuracy: 0.8326\n",
      "Epoch 49/100\n",
      "168/168 [==============================] - 1s 3ms/step - loss: 0.3890 - accuracy: 0.8388 - val_loss: 0.4118 - val_accuracy: 0.8326\n",
      "Epoch 50/100\n",
      "168/168 [==============================] - 1s 3ms/step - loss: 0.3890 - accuracy: 0.8405 - val_loss: 0.4117 - val_accuracy: 0.8311\n",
      "Epoch 51/100\n",
      "168/168 [==============================] - 1s 3ms/step - loss: 0.3890 - accuracy: 0.8408 - val_loss: 0.4107 - val_accuracy: 0.8289\n",
      "Epoch 52/100\n",
      "168/168 [==============================] - 1s 3ms/step - loss: 0.3885 - accuracy: 0.8403 - val_loss: 0.4113 - val_accuracy: 0.8315\n",
      "Epoch 53/100\n",
      "168/168 [==============================] - 1s 4ms/step - loss: 0.3888 - accuracy: 0.8408 - val_loss: 0.4114 - val_accuracy: 0.8307\n",
      "Epoch 54/100\n",
      "168/168 [==============================] - 1s 3ms/step - loss: 0.3889 - accuracy: 0.8388 - val_loss: 0.4113 - val_accuracy: 0.8292\n",
      "Epoch 55/100\n",
      "168/168 [==============================] - 0s 3ms/step - loss: 0.3888 - accuracy: 0.8408 - val_loss: 0.4107 - val_accuracy: 0.8307\n",
      "Epoch 56/100\n",
      "168/168 [==============================] - 1s 3ms/step - loss: 0.3885 - accuracy: 0.8391 - val_loss: 0.4109 - val_accuracy: 0.8300\n",
      "Epoch 57/100\n",
      "168/168 [==============================] - 1s 3ms/step - loss: 0.3884 - accuracy: 0.8410 - val_loss: 0.4105 - val_accuracy: 0.8300\n",
      "Epoch 58/100\n",
      "168/168 [==============================] - 1s 3ms/step - loss: 0.3883 - accuracy: 0.8406 - val_loss: 0.4113 - val_accuracy: 0.8296\n",
      "Epoch 59/100\n",
      "168/168 [==============================] - 1s 3ms/step - loss: 0.3884 - accuracy: 0.8397 - val_loss: 0.4109 - val_accuracy: 0.8296\n",
      "Epoch 60/100\n",
      "168/168 [==============================] - 1s 3ms/step - loss: 0.3880 - accuracy: 0.8397 - val_loss: 0.4109 - val_accuracy: 0.8315\n",
      "Epoch 61/100\n",
      "168/168 [==============================] - 1s 4ms/step - loss: 0.3879 - accuracy: 0.8423 - val_loss: 0.4109 - val_accuracy: 0.8330\n",
      "Epoch 62/100\n",
      "168/168 [==============================] - 1s 3ms/step - loss: 0.3879 - accuracy: 0.8412 - val_loss: 0.4109 - val_accuracy: 0.8300\n",
      "Epoch 63/100\n",
      "168/168 [==============================] - 1s 3ms/step - loss: 0.3877 - accuracy: 0.8401 - val_loss: 0.4100 - val_accuracy: 0.8326\n",
      "Epoch 64/100\n",
      "168/168 [==============================] - 1s 3ms/step - loss: 0.3877 - accuracy: 0.8405 - val_loss: 0.4111 - val_accuracy: 0.8311\n",
      "Epoch 65/100\n",
      "168/168 [==============================] - 1s 4ms/step - loss: 0.3874 - accuracy: 0.8405 - val_loss: 0.4106 - val_accuracy: 0.8323\n",
      "Epoch 66/100\n",
      "168/168 [==============================] - 1s 3ms/step - loss: 0.3873 - accuracy: 0.8410 - val_loss: 0.4103 - val_accuracy: 0.8307\n",
      "Epoch 67/100\n",
      "168/168 [==============================] - 1s 4ms/step - loss: 0.3876 - accuracy: 0.8414 - val_loss: 0.4105 - val_accuracy: 0.8289\n",
      "Epoch 68/100\n",
      "168/168 [==============================] - 1s 4ms/step - loss: 0.3875 - accuracy: 0.8416 - val_loss: 0.4104 - val_accuracy: 0.8323\n",
      "Epoch 69/100\n",
      "168/168 [==============================] - 1s 3ms/step - loss: 0.3872 - accuracy: 0.8433 - val_loss: 0.4103 - val_accuracy: 0.8315\n",
      "Epoch 70/100\n",
      "168/168 [==============================] - 1s 3ms/step - loss: 0.3873 - accuracy: 0.8425 - val_loss: 0.4106 - val_accuracy: 0.8345\n",
      "Epoch 71/100\n",
      "168/168 [==============================] - 1s 3ms/step - loss: 0.3871 - accuracy: 0.8429 - val_loss: 0.4107 - val_accuracy: 0.8319\n",
      "Epoch 72/100\n",
      "168/168 [==============================] - 1s 3ms/step - loss: 0.3871 - accuracy: 0.8416 - val_loss: 0.4096 - val_accuracy: 0.8311\n",
      "Epoch 73/100\n",
      "168/168 [==============================] - 1s 3ms/step - loss: 0.3869 - accuracy: 0.8429 - val_loss: 0.4113 - val_accuracy: 0.8319\n",
      "Epoch 74/100\n",
      "168/168 [==============================] - 1s 3ms/step - loss: 0.3866 - accuracy: 0.8423 - val_loss: 0.4105 - val_accuracy: 0.8323\n",
      "Epoch 75/100\n",
      "168/168 [==============================] - 1s 3ms/step - loss: 0.3861 - accuracy: 0.8427 - val_loss: 0.4108 - val_accuracy: 0.8315\n",
      "Epoch 76/100\n",
      "168/168 [==============================] - 1s 3ms/step - loss: 0.3863 - accuracy: 0.8425 - val_loss: 0.4110 - val_accuracy: 0.8334\n",
      "Epoch 77/100\n",
      "168/168 [==============================] - 1s 3ms/step - loss: 0.3863 - accuracy: 0.8434 - val_loss: 0.4112 - val_accuracy: 0.8323\n",
      "Epoch 78/100\n",
      "168/168 [==============================] - 1s 3ms/step - loss: 0.3860 - accuracy: 0.8442 - val_loss: 0.4096 - val_accuracy: 0.8307\n",
      "Epoch 79/100\n",
      "168/168 [==============================] - 1s 3ms/step - loss: 0.3861 - accuracy: 0.8442 - val_loss: 0.4098 - val_accuracy: 0.8304\n",
      "Epoch 80/100\n",
      "168/168 [==============================] - 1s 3ms/step - loss: 0.3853 - accuracy: 0.8436 - val_loss: 0.4101 - val_accuracy: 0.8334\n",
      "Epoch 81/100\n",
      "168/168 [==============================] - 1s 3ms/step - loss: 0.3852 - accuracy: 0.8459 - val_loss: 0.4092 - val_accuracy: 0.8304\n",
      "Epoch 82/100\n",
      "168/168 [==============================] - 1s 3ms/step - loss: 0.3849 - accuracy: 0.8444 - val_loss: 0.4089 - val_accuracy: 0.8300\n",
      "Epoch 83/100\n",
      "168/168 [==============================] - 1s 3ms/step - loss: 0.3841 - accuracy: 0.8449 - val_loss: 0.4084 - val_accuracy: 0.8323\n",
      "Epoch 84/100\n",
      "168/168 [==============================] - 1s 3ms/step - loss: 0.3839 - accuracy: 0.8455 - val_loss: 0.4089 - val_accuracy: 0.8319\n",
      "Epoch 85/100\n",
      "168/168 [==============================] - 1s 3ms/step - loss: 0.3831 - accuracy: 0.8464 - val_loss: 0.4078 - val_accuracy: 0.8330\n",
      "Epoch 86/100\n",
      "168/168 [==============================] - 1s 3ms/step - loss: 0.3827 - accuracy: 0.8464 - val_loss: 0.4071 - val_accuracy: 0.8334\n",
      "Epoch 87/100\n",
      "168/168 [==============================] - 1s 3ms/step - loss: 0.3820 - accuracy: 0.8472 - val_loss: 0.4060 - val_accuracy: 0.8326\n",
      "Epoch 88/100\n",
      "168/168 [==============================] - 1s 3ms/step - loss: 0.3818 - accuracy: 0.8475 - val_loss: 0.4055 - val_accuracy: 0.8319\n",
      "Epoch 89/100\n",
      "168/168 [==============================] - 1s 3ms/step - loss: 0.3802 - accuracy: 0.8494 - val_loss: 0.4050 - val_accuracy: 0.8334\n",
      "Epoch 90/100\n",
      "168/168 [==============================] - 1s 3ms/step - loss: 0.3792 - accuracy: 0.8472 - val_loss: 0.4062 - val_accuracy: 0.8353\n",
      "Epoch 91/100\n",
      "168/168 [==============================] - 1s 3ms/step - loss: 0.3786 - accuracy: 0.8500 - val_loss: 0.4043 - val_accuracy: 0.8330\n",
      "Epoch 92/100\n",
      "168/168 [==============================] - 1s 4ms/step - loss: 0.3774 - accuracy: 0.8502 - val_loss: 0.4031 - val_accuracy: 0.8326\n",
      "Epoch 93/100\n",
      "168/168 [==============================] - 1s 3ms/step - loss: 0.3752 - accuracy: 0.8492 - val_loss: 0.4012 - val_accuracy: 0.8338\n",
      "Epoch 94/100\n",
      "168/168 [==============================] - 1s 3ms/step - loss: 0.3732 - accuracy: 0.8509 - val_loss: 0.3990 - val_accuracy: 0.8330\n",
      "Epoch 95/100\n",
      "168/168 [==============================] - 1s 4ms/step - loss: 0.3711 - accuracy: 0.8526 - val_loss: 0.3973 - val_accuracy: 0.8372\n",
      "Epoch 96/100\n",
      "168/168 [==============================] - 1s 3ms/step - loss: 0.3678 - accuracy: 0.8558 - val_loss: 0.3961 - val_accuracy: 0.8349\n",
      "Epoch 97/100\n",
      "168/168 [==============================] - 1s 3ms/step - loss: 0.3659 - accuracy: 0.8543 - val_loss: 0.3926 - val_accuracy: 0.8379\n",
      "Epoch 98/100\n",
      "168/168 [==============================] - 1s 3ms/step - loss: 0.3627 - accuracy: 0.8522 - val_loss: 0.3914 - val_accuracy: 0.8372\n",
      "Epoch 99/100\n",
      "168/168 [==============================] - ETA: 0s - loss: 0.3628 - accuracy: 0.85 - 1s 3ms/step - loss: 0.3598 - accuracy: 0.8569 - val_loss: 0.3887 - val_accuracy: 0.8379\n",
      "Epoch 100/100\n",
      "168/168 [==============================] - 1s 3ms/step - loss: 0.3573 - accuracy: 0.8569 - val_loss: 0.3850 - val_accuracy: 0.8410\n"
     ]
    },
    {
     "data": {
      "text/plain": [
       "<keras.callbacks.History at 0x1c4a05cb9d0>"
      ]
     },
     "execution_count": 55,
     "metadata": {},
     "output_type": "execute_result"
    }
   ],
   "source": [
    "##Fiting the ann to the training set\n",
    "ann_clf.fit(X_train,y_train,validation_split=0.33,batch_size=32,epochs=100)"
   ]
  },
  {
   "cell_type": "code",
   "execution_count": 56,
   "id": "e164623b-5922-4921-ab88-592204a8e915",
   "metadata": {},
   "outputs": [],
   "source": [
    "# Predicting the Test set results\n",
    "y_pred = ann_clf.predict(X_test)"
   ]
  },
  {
   "cell_type": "code",
   "execution_count": 57,
   "id": "13228c76-4339-43ab-b800-9dd6496161c2",
   "metadata": {},
   "outputs": [
    {
     "data": {
      "text/plain": [
       "array([[0.14203724],\n",
       "       [0.04224598],\n",
       "       [0.19889298],\n",
       "       ...,\n",
       "       [0.7969034 ],\n",
       "       [0.04797551],\n",
       "       [0.18431097]], dtype=float32)"
      ]
     },
     "execution_count": 57,
     "metadata": {},
     "output_type": "execute_result"
    }
   ],
   "source": [
    "y_pred"
   ]
  },
  {
   "cell_type": "code",
   "execution_count": 58,
   "id": "12fbf33b-c8d5-4f3b-9c05-7e939fe8c638",
   "metadata": {},
   "outputs": [],
   "source": [
    "y_pred = (y_pred > 0.5)"
   ]
  },
  {
   "cell_type": "code",
   "execution_count": 59,
   "id": "dab7e3fe-511f-47d1-9da7-dc61241528d4",
   "metadata": {},
   "outputs": [
    {
     "data": {
      "text/plain": [
       "array([[False],\n",
       "       [False],\n",
       "       [False],\n",
       "       ...,\n",
       "       [ True],\n",
       "       [False],\n",
       "       [False]])"
      ]
     },
     "execution_count": 59,
     "metadata": {},
     "output_type": "execute_result"
    }
   ],
   "source": [
    "y_pred"
   ]
  },
  {
   "cell_type": "markdown",
   "id": "b206ee5d-69e1-4005-8019-b796aed939c9",
   "metadata": {},
   "source": [
    "## Confusion matrix"
   ]
  },
  {
   "cell_type": "code",
   "execution_count": 60,
   "id": "cc877cbb-b2c9-4fa4-8290-2f9f175a3d1c",
   "metadata": {},
   "outputs": [
    {
     "data": {
      "text/plain": [
       "array([[1533,   74],\n",
       "       [ 229,  164]], dtype=int64)"
      ]
     },
     "execution_count": 60,
     "metadata": {},
     "output_type": "execute_result"
    }
   ],
   "source": [
    "from sklearn.metrics import confusion_matrix, accuracy_score\n",
    "cm=confusion_matrix(y_test,y_pred)\n",
    "cm"
   ]
  },
  {
   "cell_type": "markdown",
   "id": "fad95fe7-1d55-4089-958f-50550784b2b1",
   "metadata": {},
   "source": [
    "## Accuracy"
   ]
  },
  {
   "cell_type": "code",
   "execution_count": 61,
   "id": "6b4a583e-052e-4b60-83fa-41a440ca73dc",
   "metadata": {},
   "outputs": [
    {
     "data": {
      "text/plain": [
       "0.8485"
      ]
     },
     "execution_count": 61,
     "metadata": {},
     "output_type": "execute_result"
    }
   ],
   "source": [
    "accuracy=accuracy_score(y_test,y_pred)\n",
    "accuracy"
   ]
  },
  {
   "cell_type": "markdown",
   "id": "b402f6bb-bfa1-4a0e-8980-07d6f00c4f5b",
   "metadata": {},
   "source": [
    "* One Epoch is when an ENTIRE dataset is passed forward and backward through the neural network only ONCE.\n",
    "* Since one epoch is too big to feed to the computer at once we divide it in several smaller batches."
   ]
  },
  {
   "cell_type": "code",
   "execution_count": null,
   "id": "f29f2f7b-6dab-424b-938f-7fc800cf1ca7",
   "metadata": {},
   "outputs": [],
   "source": []
  }
 ],
 "metadata": {
  "kernelspec": {
   "display_name": "Python 3 (ipykernel)",
   "language": "python",
   "name": "python3"
  },
  "language_info": {
   "codemirror_mode": {
    "name": "ipython",
    "version": 3
   },
   "file_extension": ".py",
   "mimetype": "text/x-python",
   "name": "python",
   "nbconvert_exporter": "python",
   "pygments_lexer": "ipython3",
   "version": "3.9.7"
  }
 },
 "nbformat": 4,
 "nbformat_minor": 5
}
